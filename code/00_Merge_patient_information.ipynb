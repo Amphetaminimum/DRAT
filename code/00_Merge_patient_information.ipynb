{
 "cells": [
  {
   "cell_type": "code",
   "execution_count": 1,
   "id": "7c4980d1-e3d1-487b-9340-9ac9281af51e",
   "metadata": {},
   "outputs": [],
   "source": [
    "import numpy as np\n",
    "import pandas as pd\n",
    "import seaborn as sns\n",
    "import matplotlib.pyplot as plt"
   ]
  },
  {
   "cell_type": "code",
   "execution_count": 20,
   "id": "d9cbf53d-296e-4518-972d-b95ce6388ad4",
   "metadata": {},
   "outputs": [
    {
     "name": "stdout",
     "output_type": "stream",
     "text": [
      "73141\n"
     ]
    },
    {
     "data": {
      "text/plain": [
       "True"
      ]
     },
     "execution_count": 20,
     "metadata": {},
     "output_type": "execute_result"
    }
   ],
   "source": [
    "df = pd.read_csv('./data/patient_data_combined.csv')\n",
    "\n",
    "print(len(df))\n",
    "df_icu = pd.read_csv('./data/icustays.csv')\n",
    "df['subject_id_x'].equals(df['subject_id'])"
   ]
  },
  {
   "cell_type": "code",
   "execution_count": null,
   "id": "67176daa-daf8-413d-ba7f-6ebae0e66f5d",
   "metadata": {
    "jupyter": {
     "source_hidden": true
    },
    "tags": []
   },
   "outputs": [],
   "source": [
    "df.corr()"
   ]
  },
  {
   "cell_type": "code",
   "execution_count": 24,
   "id": "86160e2d-02ca-4000-bd9d-ebcdefc82e30",
   "metadata": {},
   "outputs": [
    {
     "name": "stderr",
     "output_type": "stream",
     "text": [
      "/root/anaconda3/envs/tf1/lib/python3.7/site-packages/pandas/core/frame.py:9203: FutureWarning: Passing 'suffixes' which cause duplicate columns {'subject_id_x'} in the result is deprecated and will raise a MergeError in a future version.\n",
      "  validate=validate,\n"
     ]
    }
   ],
   "source": [
    "len(df_icu)\n",
    "df = df.merge(df_icu, on=\"stay_id\")"
   ]
  },
  {
   "cell_type": "code",
   "execution_count": 25,
   "id": "f6507075-a03f-4836-a7fb-3bae16acc8e8",
   "metadata": {},
   "outputs": [
    {
     "data": {
      "text/plain": [
       "Index(['Unnamed: 0', 'subject_id_x', 'hadm_id_x', 'stay_id', 'oasis',\n",
       "       'oasis_prob', 'age', 'age_score', 'preiculos', 'preiculos_score', 'gcs',\n",
       "       'gcs_score', 'heartrate', 'heart_rate_score', 'meanbp', 'mbp_score',\n",
       "       'resprate', 'resp_rate_score', 'temp', 'temp_score', 'urineoutput',\n",
       "       'urineoutput_score', 'mechvent', 'mechvent_score', 'electivesurgery',\n",
       "       'electivesurgery_score', 'gender', 'subject_id_y', 'admittime',\n",
       "       'dischtime', 'deathtime', 'admission_type', 'admission_location',\n",
       "       'discharge_location', 'insurance', 'language', 'marital_status', 'race',\n",
       "       'edregtime', 'edouttime', 'hospital_expire_flag', 'subject_id_x',\n",
       "       'charlson_comorbidity_index', 'subject_id_y', 'hadm_id_y',\n",
       "       'first_careunit', 'last_careunit', 'intime', 'outtime', 'los'],\n",
       "      dtype='object')"
      ]
     },
     "execution_count": 25,
     "metadata": {},
     "output_type": "execute_result"
    }
   ],
   "source": [
    "df.columns"
   ]
  },
  {
   "cell_type": "code",
   "execution_count": 28,
   "id": "ec0c9f0d-7793-463e-bdbd-de5799332f7a",
   "metadata": {},
   "outputs": [],
   "source": [
    "df_essential = df[['stay_id', 'age', 'gender', 'intime', 'outtime', 'deathtime', 'los', 'insurance', 'language', 'marital_status', 'race', 'discharge_location', 'charlson_comorbidity_index', 'hospital_expire_flag']]"
   ]
  },
  {
   "cell_type": "code",
   "execution_count": 29,
   "id": "d8cf1310-30d6-4810-b0a6-4c72366419c3",
   "metadata": {},
   "outputs": [
    {
     "data": {
      "text/html": [
       "<div>\n",
       "<style scoped>\n",
       "    .dataframe tbody tr th:only-of-type {\n",
       "        vertical-align: middle;\n",
       "    }\n",
       "\n",
       "    .dataframe tbody tr th {\n",
       "        vertical-align: top;\n",
       "    }\n",
       "\n",
       "    .dataframe thead th {\n",
       "        text-align: right;\n",
       "    }\n",
       "</style>\n",
       "<table border=\"1\" class=\"dataframe\">\n",
       "  <thead>\n",
       "    <tr style=\"text-align: right;\">\n",
       "      <th></th>\n",
       "      <th>stay_id</th>\n",
       "      <th>age</th>\n",
       "      <th>gender</th>\n",
       "      <th>intime</th>\n",
       "      <th>outtime</th>\n",
       "      <th>deathtime</th>\n",
       "      <th>los</th>\n",
       "      <th>insurance</th>\n",
       "      <th>language</th>\n",
       "      <th>marital_status</th>\n",
       "      <th>race</th>\n",
       "      <th>discharge_location</th>\n",
       "      <th>charlson_comorbidity_index</th>\n",
       "      <th>hospital_expire_flag</th>\n",
       "    </tr>\n",
       "  </thead>\n",
       "  <tbody>\n",
       "    <tr>\n",
       "      <th>0</th>\n",
       "      <td>36415879</td>\n",
       "      <td>53.383987</td>\n",
       "      <td>M</td>\n",
       "      <td>2168-05-20 12:59:00</td>\n",
       "      <td>2168-05-27 19:08:12</td>\n",
       "      <td>NaN</td>\n",
       "      <td>7.256389</td>\n",
       "      <td>Other</td>\n",
       "      <td>ENGLISH</td>\n",
       "      <td>SINGLE</td>\n",
       "      <td>WHITE</td>\n",
       "      <td>HOME HEALTH CARE</td>\n",
       "      <td>5</td>\n",
       "      <td>0</td>\n",
       "    </tr>\n",
       "    <tr>\n",
       "      <th>1</th>\n",
       "      <td>30506515</td>\n",
       "      <td>87.667951</td>\n",
       "      <td>M</td>\n",
       "      <td>2147-09-02 00:08:00</td>\n",
       "      <td>2147-09-02 11:45:39</td>\n",
       "      <td>NaN</td>\n",
       "      <td>0.484479</td>\n",
       "      <td>Other</td>\n",
       "      <td>ENGLISH</td>\n",
       "      <td>MARRIED</td>\n",
       "      <td>WHITE</td>\n",
       "      <td>SKILLED NURSING FACILITY</td>\n",
       "      <td>4</td>\n",
       "      <td>0</td>\n",
       "    </tr>\n",
       "    <tr>\n",
       "      <th>2</th>\n",
       "      <td>37282334</td>\n",
       "      <td>84.659836</td>\n",
       "      <td>F</td>\n",
       "      <td>2115-08-30 11:55:49</td>\n",
       "      <td>2115-08-31 11:16:23</td>\n",
       "      <td>NaN</td>\n",
       "      <td>0.972616</td>\n",
       "      <td>Medicare</td>\n",
       "      <td>ENGLISH</td>\n",
       "      <td>DIVORCED</td>\n",
       "      <td>WHITE</td>\n",
       "      <td>NaN</td>\n",
       "      <td>5</td>\n",
       "      <td>0</td>\n",
       "    </tr>\n",
       "    <tr>\n",
       "      <th>3</th>\n",
       "      <td>35621403</td>\n",
       "      <td>75.150576</td>\n",
       "      <td>M</td>\n",
       "      <td>2148-03-02 09:10:58</td>\n",
       "      <td>2148-03-04 23:01:14</td>\n",
       "      <td>NaN</td>\n",
       "      <td>2.576574</td>\n",
       "      <td>Medicare</td>\n",
       "      <td>ENGLISH</td>\n",
       "      <td>SINGLE</td>\n",
       "      <td>WHITE</td>\n",
       "      <td>HOME HEALTH CARE</td>\n",
       "      <td>4</td>\n",
       "      <td>0</td>\n",
       "    </tr>\n",
       "    <tr>\n",
       "      <th>4</th>\n",
       "      <td>37292949</td>\n",
       "      <td>75.204410</td>\n",
       "      <td>M</td>\n",
       "      <td>2148-03-15 15:51:55</td>\n",
       "      <td>2148-03-17 17:34:42</td>\n",
       "      <td>NaN</td>\n",
       "      <td>2.071377</td>\n",
       "      <td>Medicare</td>\n",
       "      <td>ENGLISH</td>\n",
       "      <td>SINGLE</td>\n",
       "      <td>WHITE</td>\n",
       "      <td>SKILLED NURSING FACILITY</td>\n",
       "      <td>4</td>\n",
       "      <td>0</td>\n",
       "    </tr>\n",
       "    <tr>\n",
       "      <th>...</th>\n",
       "      <td>...</td>\n",
       "      <td>...</td>\n",
       "      <td>...</td>\n",
       "      <td>...</td>\n",
       "      <td>...</td>\n",
       "      <td>...</td>\n",
       "      <td>...</td>\n",
       "      <td>...</td>\n",
       "      <td>...</td>\n",
       "      <td>...</td>\n",
       "      <td>...</td>\n",
       "      <td>...</td>\n",
       "      <td>...</td>\n",
       "      <td>...</td>\n",
       "    </tr>\n",
       "    <tr>\n",
       "      <th>73136</th>\n",
       "      <td>35813245</td>\n",
       "      <td>47.621032</td>\n",
       "      <td>M</td>\n",
       "      <td>2157-08-19 16:28:11</td>\n",
       "      <td>2157-08-21 14:41:35</td>\n",
       "      <td>NaN</td>\n",
       "      <td>1.925972</td>\n",
       "      <td>Other</td>\n",
       "      <td>ENGLISH</td>\n",
       "      <td>NaN</td>\n",
       "      <td>UNKNOWN</td>\n",
       "      <td>HOME HEALTH CARE</td>\n",
       "      <td>2</td>\n",
       "      <td>0</td>\n",
       "    </tr>\n",
       "    <tr>\n",
       "      <th>73137</th>\n",
       "      <td>38851647</td>\n",
       "      <td>91.249504</td>\n",
       "      <td>F</td>\n",
       "      <td>2146-04-02 04:44:05</td>\n",
       "      <td>2146-04-04 18:35:35</td>\n",
       "      <td>NaN</td>\n",
       "      <td>2.577431</td>\n",
       "      <td>Other</td>\n",
       "      <td>ENGLISH</td>\n",
       "      <td>WIDOWED</td>\n",
       "      <td>WHITE</td>\n",
       "      <td>HOME HEALTH CARE</td>\n",
       "      <td>7</td>\n",
       "      <td>0</td>\n",
       "    </tr>\n",
       "    <tr>\n",
       "      <th>73138</th>\n",
       "      <td>30318346</td>\n",
       "      <td>46.217122</td>\n",
       "      <td>F</td>\n",
       "      <td>2124-03-20 09:17:06</td>\n",
       "      <td>2124-03-21 17:20:26</td>\n",
       "      <td>NaN</td>\n",
       "      <td>1.335648</td>\n",
       "      <td>Other</td>\n",
       "      <td>ENGLISH</td>\n",
       "      <td>MARRIED</td>\n",
       "      <td>WHITE</td>\n",
       "      <td>HOME HEALTH CARE</td>\n",
       "      <td>1</td>\n",
       "      <td>0</td>\n",
       "    </tr>\n",
       "    <tr>\n",
       "      <th>73139</th>\n",
       "      <td>33919649</td>\n",
       "      <td>84.805218</td>\n",
       "      <td>F</td>\n",
       "      <td>2160-10-22 08:56:02</td>\n",
       "      <td>2160-10-24 18:07:48</td>\n",
       "      <td>NaN</td>\n",
       "      <td>2.383171</td>\n",
       "      <td>Other</td>\n",
       "      <td>ENGLISH</td>\n",
       "      <td>WIDOWED</td>\n",
       "      <td>WHITE</td>\n",
       "      <td>REHAB</td>\n",
       "      <td>8</td>\n",
       "      <td>0</td>\n",
       "    </tr>\n",
       "    <tr>\n",
       "      <th>73140</th>\n",
       "      <td>39627233</td>\n",
       "      <td>50.126044</td>\n",
       "      <td>M</td>\n",
       "      <td>2136-02-16 08:24:27</td>\n",
       "      <td>2136-02-21 11:38:49</td>\n",
       "      <td>NaN</td>\n",
       "      <td>5.134977</td>\n",
       "      <td>Medicare</td>\n",
       "      <td>ENGLISH</td>\n",
       "      <td>SINGLE</td>\n",
       "      <td>WHITE</td>\n",
       "      <td>SKILLED NURSING FACILITY</td>\n",
       "      <td>5</td>\n",
       "      <td>0</td>\n",
       "    </tr>\n",
       "  </tbody>\n",
       "</table>\n",
       "<p>73141 rows × 14 columns</p>\n",
       "</div>"
      ],
      "text/plain": [
       "        stay_id        age gender               intime              outtime  \\\n",
       "0      36415879  53.383987      M  2168-05-20 12:59:00  2168-05-27 19:08:12   \n",
       "1      30506515  87.667951      M  2147-09-02 00:08:00  2147-09-02 11:45:39   \n",
       "2      37282334  84.659836      F  2115-08-30 11:55:49  2115-08-31 11:16:23   \n",
       "3      35621403  75.150576      M  2148-03-02 09:10:58  2148-03-04 23:01:14   \n",
       "4      37292949  75.204410      M  2148-03-15 15:51:55  2148-03-17 17:34:42   \n",
       "...         ...        ...    ...                  ...                  ...   \n",
       "73136  35813245  47.621032      M  2157-08-19 16:28:11  2157-08-21 14:41:35   \n",
       "73137  38851647  91.249504      F  2146-04-02 04:44:05  2146-04-04 18:35:35   \n",
       "73138  30318346  46.217122      F  2124-03-20 09:17:06  2124-03-21 17:20:26   \n",
       "73139  33919649  84.805218      F  2160-10-22 08:56:02  2160-10-24 18:07:48   \n",
       "73140  39627233  50.126044      M  2136-02-16 08:24:27  2136-02-21 11:38:49   \n",
       "\n",
       "      deathtime       los insurance language marital_status     race  \\\n",
       "0           NaN  7.256389     Other  ENGLISH         SINGLE    WHITE   \n",
       "1           NaN  0.484479     Other  ENGLISH        MARRIED    WHITE   \n",
       "2           NaN  0.972616  Medicare  ENGLISH       DIVORCED    WHITE   \n",
       "3           NaN  2.576574  Medicare  ENGLISH         SINGLE    WHITE   \n",
       "4           NaN  2.071377  Medicare  ENGLISH         SINGLE    WHITE   \n",
       "...         ...       ...       ...      ...            ...      ...   \n",
       "73136       NaN  1.925972     Other  ENGLISH            NaN  UNKNOWN   \n",
       "73137       NaN  2.577431     Other  ENGLISH        WIDOWED    WHITE   \n",
       "73138       NaN  1.335648     Other  ENGLISH        MARRIED    WHITE   \n",
       "73139       NaN  2.383171     Other  ENGLISH        WIDOWED    WHITE   \n",
       "73140       NaN  5.134977  Medicare  ENGLISH         SINGLE    WHITE   \n",
       "\n",
       "             discharge_location  charlson_comorbidity_index  \\\n",
       "0              HOME HEALTH CARE                           5   \n",
       "1      SKILLED NURSING FACILITY                           4   \n",
       "2                           NaN                           5   \n",
       "3              HOME HEALTH CARE                           4   \n",
       "4      SKILLED NURSING FACILITY                           4   \n",
       "...                         ...                         ...   \n",
       "73136          HOME HEALTH CARE                           2   \n",
       "73137          HOME HEALTH CARE                           7   \n",
       "73138          HOME HEALTH CARE                           1   \n",
       "73139                     REHAB                           8   \n",
       "73140  SKILLED NURSING FACILITY                           5   \n",
       "\n",
       "       hospital_expire_flag  \n",
       "0                         0  \n",
       "1                         0  \n",
       "2                         0  \n",
       "3                         0  \n",
       "4                         0  \n",
       "...                     ...  \n",
       "73136                     0  \n",
       "73137                     0  \n",
       "73138                     0  \n",
       "73139                     0  \n",
       "73140                     0  \n",
       "\n",
       "[73141 rows x 14 columns]"
      ]
     },
     "execution_count": 29,
     "metadata": {},
     "output_type": "execute_result"
    }
   ],
   "source": [
    "df_essential"
   ]
  },
  {
   "cell_type": "code",
   "execution_count": 31,
   "id": "a9d65516-9f01-4266-850d-bc9b1c7c2d60",
   "metadata": {},
   "outputs": [],
   "source": [
    "df_essential.to_csv(\"patient_data.csv\")"
   ]
  },
  {
   "cell_type": "code",
   "execution_count": 36,
   "id": "0f4aed0b-601f-4e94-ab1d-9f52af4adf7c",
   "metadata": {},
   "outputs": [
    {
     "data": {
      "text/plain": [
       "array([53.38398727, 87.66795136, 84.65983649, ..., 46.21712203,\n",
       "       84.80521773, 50.1260439 ])"
      ]
     },
     "execution_count": 36,
     "metadata": {},
     "output_type": "execute_result"
    }
   ],
   "source": [
    "df_essential[].unique()"
   ]
  },
  {
   "cell_type": "code",
   "execution_count": 52,
   "id": "9f53ad9e-f57b-41cc-8f24-06fda0086e20",
   "metadata": {},
   "outputs": [],
   "source": [
    "nan_rows = df_essential[df_essential['hospital_expire_flag'].isnull()]"
   ]
  },
  {
   "cell_type": "code",
   "execution_count": 53,
   "id": "cedbaa83-1145-4d8c-83da-abd8e5e4476f",
   "metadata": {},
   "outputs": [
    {
     "data": {
      "text/html": [
       "<div>\n",
       "<style scoped>\n",
       "    .dataframe tbody tr th:only-of-type {\n",
       "        vertical-align: middle;\n",
       "    }\n",
       "\n",
       "    .dataframe tbody tr th {\n",
       "        vertical-align: top;\n",
       "    }\n",
       "\n",
       "    .dataframe thead th {\n",
       "        text-align: right;\n",
       "    }\n",
       "</style>\n",
       "<table border=\"1\" class=\"dataframe\">\n",
       "  <thead>\n",
       "    <tr style=\"text-align: right;\">\n",
       "      <th></th>\n",
       "      <th>stay_id</th>\n",
       "      <th>age</th>\n",
       "      <th>gender</th>\n",
       "      <th>intime</th>\n",
       "      <th>outtime</th>\n",
       "      <th>deathtime</th>\n",
       "      <th>los</th>\n",
       "      <th>insurance</th>\n",
       "      <th>language</th>\n",
       "      <th>marital_status</th>\n",
       "      <th>race</th>\n",
       "      <th>discharge_location</th>\n",
       "      <th>charlson_comorbidity_index</th>\n",
       "      <th>hospital_expire_flag</th>\n",
       "    </tr>\n",
       "  </thead>\n",
       "  <tbody>\n",
       "  </tbody>\n",
       "</table>\n",
       "</div>"
      ],
      "text/plain": [
       "Empty DataFrame\n",
       "Columns: [stay_id, age, gender, intime, outtime, deathtime, los, insurance, language, marital_status, race, discharge_location, charlson_comorbidity_index, hospital_expire_flag]\n",
       "Index: []"
      ]
     },
     "execution_count": 53,
     "metadata": {},
     "output_type": "execute_result"
    }
   ],
   "source": [
    "nan_rows"
   ]
  },
  {
   "cell_type": "code",
   "execution_count": null,
   "id": "f1646df5-31c8-4edc-9e00-bab1b8b14055",
   "metadata": {},
   "outputs": [],
   "source": []
  }
 ],
 "metadata": {
  "kernelspec": {
   "display_name": "Python 3 (ipykernel)",
   "language": "python",
   "name": "python3"
  },
  "language_info": {
   "codemirror_mode": {
    "name": "ipython",
    "version": 3
   },
   "file_extension": ".py",
   "mimetype": "text/x-python",
   "name": "python",
   "nbconvert_exporter": "python",
   "pygments_lexer": "ipython3",
   "version": "3.7.15"
  }
 },
 "nbformat": 4,
 "nbformat_minor": 5
}
