{
 "cells": [
  {
   "cell_type": "code",
   "execution_count": null,
   "id": "276f0b2e-7e87-4778-9143-2b307afee5b8",
   "metadata": {},
   "outputs": [],
   "source": [
    "# Author: Romain Tavenard\n",
    "# License: BSD 3 clause\n",
    "!pip install tslearn"
   ]
  },
  {
   "cell_type": "code",
   "execution_count": null,
   "id": "51fa7618-c08c-406f-ad3c-3c0fb97c3e43",
   "metadata": {},
   "outputs": [],
   "source": [
    "import numpy\n",
    "import pandas as pd\n",
    "import matplotlib.pyplot as plt\n",
    "\n",
    "from tslearn.clustering import TimeSeriesKMeans\n",
    "from tslearn.datasets import CachedDatasets\n",
    "from tslearn.preprocessing import TimeSeriesScalerMeanVariance, \\\n",
    "    TimeSeriesResampler"
   ]
  },
  {
   "cell_type": "code",
   "execution_count": null,
   "id": "61a83531-3e9a-48fe-b289-eed8fb0c41e3",
   "metadata": {
    "tags": []
   },
   "outputs": [],
   "source": [
    "df = pd.read_parquet('./data/sofa_hourly.parquet', )"
   ]
  },
  {
   "cell_type": "code",
   "execution_count": null,
   "id": "b416c7a5-406a-41d6-a3c3-f524649eb513",
   "metadata": {},
   "outputs": [],
   "source": [
    "df['sofa_24hours'].hist()"
   ]
  },
  {
   "cell_type": "code",
   "execution_count": null,
   "id": "da96d75a-9391-444b-9d19-5cff45f48469",
   "metadata": {},
   "outputs": [],
   "source": [
    "df = df[df['hr'] <= 72]\n",
    "df_t = df.pivot(index='stay_id', columns = 'hr', values = 'sofa_24hours')\n",
    "df_t = df_t.dropna()\n",
    "\n",
    "from tslearn.utils import to_time_series_dataset\n",
    "to_time_series_dataset(df_t)\n",
    "\n"
   ]
  },
  {
   "cell_type": "code",
   "execution_count": null,
   "id": "f62ca133-74cf-4641-9003-7250bc1d1783",
   "metadata": {},
   "outputs": [],
   "source": [
    "from tslearn.clustering import TimeSeriesKMeans\n",
    "km3 = TimeSeriesKMeans(n_clusters=3, metric=\"dtw\")\n",
    "km3.fit(df_t)"
   ]
  },
  {
   "cell_type": "code",
   "execution_count": null,
   "id": "0eaab584-cd4e-4ed3-9877-c34c023eccfd",
   "metadata": {},
   "outputs": [],
   "source": [
    "result = pd.DataFrame({'A':df_t[km3.predict(df_t)==0].mean(axis=0),\n",
    "                       'B':df_t[km3.predict(df_t)==1].mean(axis=0),\n",
    "                       'C':df_t[km3.predict(df_t)==2].mean(axis=0)})\n",
    "result"
   ]
  },
  {
   "cell_type": "code",
   "execution_count": null,
   "id": "26b29b2f-2bb5-4052-ac09-1b19ce8d1948",
   "metadata": {},
   "outputs": [],
   "source": [
    "import matplotlib.pyplot as mp\n",
    "%config InlineBackend.figure_format = 'svg'\n",
    "\n",
    "# plot multiple columns such as population and year from dataframe\n",
    "result.plot(y=[\"A\", \"B\",\"C\"],\n",
    "        kind=\"line\", figsize=(10, 10))\n",
    "# display plot\n",
    "\n",
    "mp.savefig(\"kmeans_72hrs_3cluster.svg\")\n",
    "mp.show()"
   ]
  },
  {
   "cell_type": "code",
   "execution_count": null,
   "id": "3e34a64c-8030-4601-badc-c29f90d7edf6",
   "metadata": {},
   "outputs": [],
   "source": [
    "km4 = TimeSeriesKMeans(n_clusters=4, metric=\"dtw\")\n",
    "km4.fit(df_t)"
   ]
  },
  {
   "cell_type": "code",
   "execution_count": null,
   "id": "85372052-ad58-4234-bf47-7cc4aed57aac",
   "metadata": {},
   "outputs": [],
   "source": [
    "result = pd.DataFrame({'A':df_t[km4.predict(df_t)==0].mean(axis=0),\n",
    "                       'B':df_t[km4.predict(df_t)==1].mean(axis=0),\n",
    "                       'C':df_t[km4.predict(df_t)==2].mean(axis=0),\n",
    "                       'D':df_t[km4.predict(df_t)==3].mean(axis=0),})\n",
    "result"
   ]
  },
  {
   "cell_type": "code",
   "execution_count": null,
   "id": "52f0a2e7-5e81-43ed-b2b7-b6bee557a8df",
   "metadata": {},
   "outputs": [],
   "source": [
    "mp.clf()\n",
    "\n",
    "%config InlineBackend.figure_format = 'svg'\n",
    "\n",
    "\n",
    "# plot multiple columns such as population and year from dataframe\n",
    "result.plot(y=[\"A\", \"B\",\"C\", \"D\"],\n",
    "        kind=\"line\", figsize=(10, 10))\n",
    "# display plot\n",
    "mp.savefig(\"kmeans_72hrs_4cluster.svg\")\n",
    "mp.show()\n"
   ]
  },
  {
   "cell_type": "code",
   "execution_count": null,
   "id": "4e86769a-7763-46b1-9f88-21c00a4a64a4",
   "metadata": {},
   "outputs": [],
   "source": [
    "km4.inertia_"
   ]
  },
  {
   "cell_type": "code",
   "execution_count": null,
   "id": "61f451e9-83a7-47d8-8058-578de4075fc4",
   "metadata": {},
   "outputs": [],
   "source": [
    "inertia = []\n",
    "\n",
    "temp = df_t.sample(1000)\n",
    "\n",
    "for i in range(1, 11):\n",
    "    clusters = i\n",
    "    km = TimeSeriesKMeans(n_clusters=i, metric=\"dtw\")\n",
    "    km.fit(temp)\n",
    "    inertia.append(km.inertia_)\n",
    "    print(inertia)"
   ]
  },
  {
   "cell_type": "code",
   "execution_count": null,
   "id": "35f6cb8f-e095-45b3-800d-8fdcb539c8a3",
   "metadata": {},
   "outputs": [],
   "source": [
    "mp.clf()\n",
    "n = [1, 2, 3, 4, 5, 6, 7, 8, 9]\n",
    "mp.plot(n, inertia)"
   ]
  },
  {
   "cell_type": "code",
   "execution_count": null,
   "id": "9810e2ad-20fe-4fc3-93d7-808751aaf629",
   "metadata": {},
   "outputs": [],
   "source": [
    "km5 = TimeSeriesKMeans(n_clusters=5, metric=\"dtw\")\n",
    "km5.fit(df_t)"
   ]
  },
  {
   "cell_type": "code",
   "execution_count": null,
   "id": "1a85ab15-08b9-49a8-8ee4-a23f7e5b5def",
   "metadata": {},
   "outputs": [],
   "source": [
    "result = pd.DataFrame({'A':df_t[km5.predict(df_t)==0].mean(axis=0),\n",
    "                       'B':df_t[km5.predict(df_t)==1].mean(axis=0),\n",
    "                       'C':df_t[km5.predict(df_t)==2].mean(axis=0),\n",
    "                       'D':df_t[km5.predict(df_t)==3].mean(axis=0),\n",
    "                       'E':df_t[km5.predict(df_t)==4].mean(axis=0)})\n",
    "result"
   ]
  },
  {
   "cell_type": "code",
   "execution_count": null,
   "id": "691f8881-8f32-44ed-96df-9959b96e061e",
   "metadata": {},
   "outputs": [],
   "source": [
    "mp.clf()\n",
    "\n",
    "%config InlineBackend.figure_format = 'svg'\n",
    "\n",
    "\n",
    "# plot multiple columns such as population and year from dataframe\n",
    "result.plot(y=[\"A\", \"B\",\"C\", \"D\", \"E\"],\n",
    "        kind=\"line\", figsize=(10, 10))\n",
    "# display plot\n",
    "mp.savefig(\"kmeans_72hrs_5cluster.svg\")\n",
    "mp.show()"
   ]
  },
  {
   "cell_type": "code",
   "execution_count": null,
   "id": "cb0c9d11-1e69-464f-8a61-204092a742f9",
   "metadata": {},
   "outputs": [],
   "source": []
  }
 ],
 "metadata": {
  "kernelspec": {
   "display_name": "Python 3 (ipykernel)",
   "language": "python",
   "name": "python3"
  },
  "language_info": {
   "codemirror_mode": {
    "name": "ipython",
    "version": 3
   },
   "file_extension": ".py",
   "mimetype": "text/x-python",
   "name": "python",
   "nbconvert_exporter": "python",
   "pygments_lexer": "ipython3",
   "version": "3.7.15"
  }
 },
 "nbformat": 4,
 "nbformat_minor": 5
}
